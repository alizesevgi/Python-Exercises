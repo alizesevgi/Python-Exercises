{
  "nbformat": 4,
  "nbformat_minor": 0,
  "metadata": {
    "colab": {
      "name": "rsa.ipynb",
      "provenance": [],
      "collapsed_sections": []
    },
    "kernelspec": {
      "name": "python3",
      "display_name": "Python 3"
    },
    "language_info": {
      "name": "python"
    }
  },
  "cells": [
    {
      "cell_type": "markdown",
      "source": [
        "1st Conjecture - There can be at-least one prime factor that would be less than √n in case of n is not a prime number.\n",
        "\n",
        "2nd Conjecture - There can be AT-MOST 1 prime factor of n greater than sqrt(n)"
      ],
      "metadata": {
        "id": "JW404UkPEDf-"
      }
    },
    {
      "cell_type": "code",
      "source": [
        "import math"
      ],
      "metadata": {
        "id": "26YUCOvgEj8X"
      },
      "execution_count": null,
      "outputs": []
    },
    {
      "cell_type": "code",
      "source": [
        "sqrroot = int(math.sqrt(1746786788707))"
      ],
      "metadata": {
        "id": "LMsEFRRXFOFX"
      },
      "execution_count": null,
      "outputs": []
    },
    {
      "cell_type": "code",
      "source": [
        "print(sqrroot)"
      ],
      "metadata": {
        "colab": {
          "base_uri": "https://localhost:8080/"
        },
        "id": "A8pI2Wv8J3Az",
        "outputId": "26b9d939-55ea-492e-8893-9da004878a60"
      },
      "execution_count": null,
      "outputs": [
        {
          "output_type": "stream",
          "name": "stdout",
          "text": [
            "1321660\n"
          ]
        }
      ]
    },
    {
      "cell_type": "code",
      "source": [
        "for i in range(2,1746786788707):\n",
        "  if(1746786788707%i == 0):\n",
        "    print(\"not prime\")\n",
        "    break"
      ],
      "metadata": {
        "colab": {
          "base_uri": "https://localhost:8080/"
        },
        "id": "kNanmuCdDfkX",
        "outputId": "9f063598-bb7b-4fc1-8fc5-fae809154fd2"
      },
      "execution_count": null,
      "outputs": [
        {
          "output_type": "stream",
          "name": "stdout",
          "text": [
            "not prime\n"
          ]
        }
      ]
    },
    {
      "cell_type": "code",
      "source": [
        "for i in range(3, sqrroot,2):\n",
        "  if(1746786788707%i == 0):\n",
        "    sqrroot = int(math.sqrt(1746786788707/i))\n",
        "    print(i)\n",
        "    break\n"
      ],
      "metadata": {
        "colab": {
          "base_uri": "https://localhost:8080/"
        },
        "id": "Me7iMugYGa2W",
        "outputId": "3857b3ee-47bc-4625-d8c6-80b475fe6ea5"
      },
      "execution_count": null,
      "outputs": [
        {
          "output_type": "stream",
          "name": "stdout",
          "text": [
            "1197347\n"
          ]
        }
      ]
    },
    {
      "cell_type": "code",
      "source": [
        "for i in range(sqrroot+1,1746786788707,2):\n",
        "  if(1746786788707%i == 0):\n",
        "    sqrroot = int(math.sqrt(1746786788707/i))\n",
        "    print(i)\n",
        "    break"
      ],
      "metadata": {
        "id": "l9pC3wxoJwPd",
        "colab": {
          "base_uri": "https://localhost:8080/"
        },
        "outputId": "d581075c-425b-47d2-b466-637441e4f265"
      },
      "execution_count": null,
      "outputs": [
        {
          "output_type": "stream",
          "name": "stdout",
          "text": [
            "1458881\n"
          ]
        }
      ]
    },
    {
      "cell_type": "code",
      "source": [
        "p = 1197347\n",
        "q = 1458881\n",
        "phi = (p-1)*(q-1)\n",
        "e = 263\n",
        "d = 1534247660087\n",
        "n = p*q\n"
      ],
      "metadata": {
        "id": "ixKJVYXQKaA-"
      },
      "execution_count": null,
      "outputs": []
    },
    {
      "cell_type": "code",
      "source": [
        "M = pow(1661993860336, d, n)\n",
        "print(M)\n"
      ],
      "metadata": {
        "id": "O6mbLxC6SYz7",
        "colab": {
          "base_uri": "https://localhost:8080/"
        },
        "outputId": "394779f7-1737-41fc-f462-4911945d0840"
      },
      "execution_count": null,
      "outputs": [
        {
          "output_type": "stream",
          "name": "stdout",
          "text": [
            "9134511453\n"
          ]
        }
      ]
    }
  ]
}