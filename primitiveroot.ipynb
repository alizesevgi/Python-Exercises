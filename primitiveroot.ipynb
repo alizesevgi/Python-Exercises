{
  "nbformat": 4,
  "nbformat_minor": 0,
  "metadata": {
    "colab": {
      "name": "primitiveroot.ipynb",
      "provenance": [],
      "collapsed_sections": []
    },
    "kernelspec": {
      "name": "python3",
      "display_name": "Python 3"
    },
    "language_info": {
      "name": "python"
    }
  },
  "cells": [
    {
      "cell_type": "code",
      "source": [
        "def checkIfDuplicates(liste):\n",
        "  if len(liste) == len(set(liste)):   \n",
        "    return False\n",
        "  else:\n",
        "    return True"
      ],
      "metadata": {
        "id": "ZY7615HbMfrS"
      },
      "execution_count": null,
      "outputs": []
    },
    {
      "cell_type": "code",
      "source": [
        "def append_list(n):\n",
        "  liste = []\n",
        "  liste2 = []\n",
        "  yaas = '' \n",
        "  for r in range(2,n):\n",
        "    for x in range(0,n-1):\n",
        "      power = pow(r, x, n)\n",
        "      liste.append(power)  \n",
        "    yaas = bool(checkIfDuplicates(liste))\n",
        "    if(yaas == False):\n",
        "      liste2.append(r)\n",
        "      liste.clear()\n",
        "\n",
        "    if(yaas == True):\n",
        "      liste.clear()\n",
        "\n",
        "  return liste2\n"
      ],
      "metadata": {
        "id": "s8JC7-JKIvLI"
      },
      "execution_count": null,
      "outputs": []
    },
    {
      "cell_type": "code",
      "source": [
        "actualliste = []\n",
        "n = 37\n",
        "if(len(append_list(n)) != 0):\n",
        "  actualliste.append(append_list(n))\n",
        "  print(actualliste)\n",
        "\n"
      ],
      "metadata": {
        "id": "jSwU9w-IV7Sk",
        "colab": {
          "base_uri": "https://localhost:8080/"
        },
        "outputId": "7aaa1946-1a7b-4670-ef6c-331a12258c67"
      },
      "execution_count": null,
      "outputs": [
        {
          "output_type": "stream",
          "name": "stdout",
          "text": [
            "[[2, 5, 13, 15, 17, 18, 19, 20, 22, 24, 32, 35]]\n"
          ]
        }
      ]
    }
  ]
}